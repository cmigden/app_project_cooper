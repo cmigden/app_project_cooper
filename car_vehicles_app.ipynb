{
 "cells": [
  {
   "cell_type": "code",
   "execution_count": 1,
   "id": "a627efd9",
   "metadata": {},
   "outputs": [],
   "source": [
    "import pandas as pd\n",
    "import plotly_express as px\n",
    "import streamlit as st\n",
    "#import needed packages"
   ]
  },
  {
   "cell_type": "code",
   "execution_count": 2,
   "id": "1237d712",
   "metadata": {},
   "outputs": [],
   "source": [
    "data = pd.read_csv('/Users/coopermigden/data_sets/vehicles_us (1).csv')\n",
    "#Brings the data into the program"
   ]
  },
  {
   "cell_type": "code",
   "execution_count": 3,
   "id": "8d3d812d",
   "metadata": {},
   "outputs": [
    {
     "name": "stderr",
     "output_type": "stream",
     "text": [
      "2023-04-21 14:44:08.109 \n",
      "  \u001b[33m\u001b[1mWarning:\u001b[0m to view this Streamlit app on a browser, run it with the following\n",
      "  command:\n",
      "\n",
      "    streamlit run /Users/coopermigden/anaconda3/lib/python3.10/site-packages/ipykernel_launcher.py [ARGUMENTS]\n"
     ]
    },
    {
     "data": {
      "text/plain": [
       "DeltaGenerator()"
      ]
     },
     "execution_count": 3,
     "metadata": {},
     "output_type": "execute_result"
    }
   ],
   "source": [
    "st.title('##Car Sales Data')"
   ]
  },
  {
   "cell_type": "code",
   "execution_count": 4,
   "id": "16b239a1",
   "metadata": {},
   "outputs": [],
   "source": [
    "st.write(data.head())\n",
    "#displays data table"
   ]
  },
  {
   "cell_type": "code",
   "execution_count": 5,
   "id": "0e5e9f0c",
   "metadata": {},
   "outputs": [
    {
     "data": {
      "text/plain": [
       "DeltaGenerator()"
      ]
     },
     "execution_count": 5,
     "metadata": {},
     "output_type": "execute_result"
    }
   ],
   "source": [
    "st.header('#Interactive Scatterplot')"
   ]
  },
  {
   "cell_type": "code",
   "execution_count": 6,
   "id": "cd227e6f",
   "metadata": {},
   "outputs": [],
   "source": [
    "def interactive_plot(data):\n",
    "    x_axis_val = st.selectbox('Select X-Axis Value', options=data.columns)\n",
    "    y_axis_val = st.selectbox('Select Y-Axis Value', options=data.columns)\n",
    "    \n",
    "    plot = px.scatter(data,x=x_axis_val,y=y_axis_val)\n",
    "    st.plotly_chart(plot)\n",
    "#This is a function that creates a scatterplot in which the user is able to choose the x and y axis based upon the columns in the data dataframe."
   ]
  },
  {
   "cell_type": "code",
   "execution_count": 7,
   "id": "21894b71",
   "metadata": {},
   "outputs": [],
   "source": [
    "interactive_plot(data)"
   ]
  },
  {
   "cell_type": "code",
   "execution_count": 8,
   "id": "c9826497",
   "metadata": {},
   "outputs": [
    {
     "data": {
      "text/plain": [
       "DeltaGenerator()"
      ]
     },
     "execution_count": 8,
     "metadata": {},
     "output_type": "execute_result"
    }
   ],
   "source": [
    "st.header('Interactive Historgram')"
   ]
  },
  {
   "cell_type": "code",
   "execution_count": 9,
   "id": "18e148a4",
   "metadata": {},
   "outputs": [
    {
     "data": {
      "text/plain": [
       "DeltaGenerator()"
      ]
     },
     "execution_count": 9,
     "metadata": {},
     "output_type": "execute_result"
    }
   ],
   "source": [
    "st.header('Histogram Via Type of Car and Price')\n",
    "color_opt=st.checkbox('Please select this checkbox if you want this graph to have color.')\n",
    "color ='type' if color_opt else None\n",
    "#determines if the graph has color\n",
    "\n",
    "hist =px.histogram(data_frame=data,x='type',y='price',color=color)\n",
    "\n",
    "st.plotly_chart(hist)\n",
    "#This is a function that creates a histogram that looks at the type of car in this data set."
   ]
  },
  {
   "cell_type": "code",
   "execution_count": null,
   "id": "07708437",
   "metadata": {},
   "outputs": [],
   "source": []
  }
 ],
 "metadata": {
  "kernelspec": {
   "display_name": "Python 3 (ipykernel)",
   "language": "python",
   "name": "python3"
  },
  "language_info": {
   "codemirror_mode": {
    "name": "ipython",
    "version": 3
   },
   "file_extension": ".py",
   "mimetype": "text/x-python",
   "name": "python",
   "nbconvert_exporter": "python",
   "pygments_lexer": "ipython3",
   "version": "3.10.9"
  }
 },
 "nbformat": 4,
 "nbformat_minor": 5
}
